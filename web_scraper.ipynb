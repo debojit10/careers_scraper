{
 "cells": [
  {
   "cell_type": "code",
   "execution_count": 317,
   "id": "36ac84c5-2cc5-4216-800a-a2575783d7fd",
   "metadata": {},
   "outputs": [],
   "source": [
    "import time\n",
    "import pandas as pd\n",
    "from selenium import webdriver\n",
    "from selenium.webdriver.common.keys import Keys\n",
    "from selenium.webdriver.common.by import By\n",
    "from selenium.webdriver import ActionChains\n",
    "from webdriver_manager.chrome import ChromeDriverManager"
   ]
  },
  {
   "cell_type": "code",
   "execution_count": 234,
   "id": "f9df604c-fb5e-4f1f-be1c-a0dec9ad74d8",
   "metadata": {},
   "outputs": [
    {
     "name": "stderr",
     "output_type": "stream",
     "text": [
      "\n",
      "\n",
      "====== WebDriver manager ======\n",
      "Current google-chrome version is 101.0.4951\n",
      "Get LATEST chromedriver version for 101.0.4951 google-chrome\n",
      "Driver [C:\\Users\\deboj\\.wdm\\drivers\\chromedriver\\win32\\101.0.4951.41\\chromedriver.exe] found in cache\n",
      "C:\\Users\\deboj\\AppData\\Local\\Temp/ipykernel_14524/1781563638.py:3: DeprecationWarning: executable_path has been deprecated, please pass in a Service object\n",
      "  driver = webdriver.Chrome(ChromeDriverManager().install())\n"
     ]
    }
   ],
   "source": [
    "driver = webdriver.Chrome(ChromeDriverManager().install())"
   ]
  },
  {
   "cell_type": "code",
   "execution_count": 306,
   "id": "b4964fa6-954e-469a-a60f-7121dda2b18e",
   "metadata": {},
   "outputs": [],
   "source": [
    "job_page = 'https://www.linkedin.com/jobs/search/?f_C=1586%2C2382910%2C167364%2C12227%2C34924%2C47157%2C2320329%2C1379932%2C21433%2C61712%2C78392228%2C49318%2C111446%2C208137%2C46825%2C16551%2C860467%2C71099%2C2649984%2C14951%2C4787585%2C17411&geoId=92000000&start=50&position=50&pageNum=2'\n",
    "driver.get(job_page)"
   ]
  },
  {
   "cell_type": "code",
   "execution_count": 307,
   "id": "aa837d84-25ad-4b52-b5ab-ca0bc5d74113",
   "metadata": {},
   "outputs": [],
   "source": [
    "jobs = driver.find_element(By.ID,\"main-content\")"
   ]
  },
  {
   "cell_type": "code",
   "execution_count": 308,
   "id": "d6c44d8a-3faf-4dc8-8b1e-12699d01882f",
   "metadata": {},
   "outputs": [],
   "source": [
    "# jobs.text"
   ]
  },
  {
   "cell_type": "code",
   "execution_count": 309,
   "id": "cadca9ae-2228-4be2-b167-d04807cdf8e3",
   "metadata": {},
   "outputs": [],
   "source": [
    "for i in range(6):\n",
    "    driver.execute_script(\"window.scrollTo(0, document.body.scrollHeight);\")\n",
    "    time.sleep(3)"
   ]
  },
  {
   "cell_type": "code",
   "execution_count": 310,
   "id": "8adbd330-bc12-4d3b-9e70-56fa2fab6db1",
   "metadata": {},
   "outputs": [],
   "source": [
    "items = jobs.find_elements(By.TAG_NAME,\"li\")"
   ]
  },
  {
   "cell_type": "code",
   "execution_count": 311,
   "id": "da06a2b3-995b-4ce5-af22-a115a848b989",
   "metadata": {},
   "outputs": [
    {
     "data": {
      "text/plain": [
       "175"
      ]
     },
     "execution_count": 311,
     "metadata": {},
     "output_type": "execute_result"
    }
   ],
   "source": [
    "len(items)"
   ]
  },
  {
   "cell_type": "code",
   "execution_count": 313,
   "id": "6829844e-de47-4f5f-90fe-c2e761c7c4f2",
   "metadata": {},
   "outputs": [],
   "source": [
    "job_title = []\n",
    "job_link = []\n",
    "for item in items:\n",
    "    if len(inner)>0:\n",
    "        try:\n",
    "            job_title.append(item.text.split('\\n')[0])\n",
    "            job_link.append(item.find_element(By.TAG_NAME,\"a\").get_attribute('href'))\n",
    "        except IndexError:\n",
    "            pass"
   ]
  },
  {
   "cell_type": "code",
   "execution_count": 318,
   "id": "71d1049e-77a5-432a-adab-47c6afa57120",
   "metadata": {},
   "outputs": [],
   "source": [
    "df = pd.DataFrame({'job title':job_title,'job link':job_link})"
   ]
  },
  {
   "cell_type": "code",
   "execution_count": 319,
   "id": "c6509fae-2dee-4b44-a41a-8cec17683219",
   "metadata": {},
   "outputs": [
    {
     "data": {
      "text/html": [
       "<div>\n",
       "<style scoped>\n",
       "    .dataframe tbody tr th:only-of-type {\n",
       "        vertical-align: middle;\n",
       "    }\n",
       "\n",
       "    .dataframe tbody tr th {\n",
       "        vertical-align: top;\n",
       "    }\n",
       "\n",
       "    .dataframe thead th {\n",
       "        text-align: right;\n",
       "    }\n",
       "</style>\n",
       "<table border=\"1\" class=\"dataframe\">\n",
       "  <thead>\n",
       "    <tr style=\"text-align: right;\">\n",
       "      <th></th>\n",
       "      <th>job title</th>\n",
       "      <th>job link</th>\n",
       "    </tr>\n",
       "  </thead>\n",
       "  <tbody>\n",
       "    <tr>\n",
       "      <th>0</th>\n",
       "      <td>Financial Analyst Intern, Insights Planning Au...</td>\n",
       "      <td>https://in.linkedin.com/jobs/view/financial-an...</td>\n",
       "    </tr>\n",
       "    <tr>\n",
       "      <th>1</th>\n",
       "      <td>Content Reviewer</td>\n",
       "      <td>https://in.linkedin.com/jobs/view/content-revi...</td>\n",
       "    </tr>\n",
       "    <tr>\n",
       "      <th>2</th>\n",
       "      <td>Content Reviewer</td>\n",
       "      <td>https://in.linkedin.com/jobs/view/content-revi...</td>\n",
       "    </tr>\n",
       "    <tr>\n",
       "      <th>3</th>\n",
       "      <td>Content Reviewer</td>\n",
       "      <td>https://in.linkedin.com/jobs/view/content-revi...</td>\n",
       "    </tr>\n",
       "    <tr>\n",
       "      <th>4</th>\n",
       "      <td>Channel Relationship Manager</td>\n",
       "      <td>https://in.linkedin.com/jobs/view/channel-rela...</td>\n",
       "    </tr>\n",
       "  </tbody>\n",
       "</table>\n",
       "</div>"
      ],
      "text/plain": [
       "                                           job title  \\\n",
       "0  Financial Analyst Intern, Insights Planning Au...   \n",
       "1                                   Content Reviewer   \n",
       "2                                   Content Reviewer   \n",
       "3                                   Content Reviewer   \n",
       "4                       Channel Relationship Manager   \n",
       "\n",
       "                                            job link  \n",
       "0  https://in.linkedin.com/jobs/view/financial-an...  \n",
       "1  https://in.linkedin.com/jobs/view/content-revi...  \n",
       "2  https://in.linkedin.com/jobs/view/content-revi...  \n",
       "3  https://in.linkedin.com/jobs/view/content-revi...  \n",
       "4  https://in.linkedin.com/jobs/view/channel-rela...  "
      ]
     },
     "execution_count": 319,
     "metadata": {},
     "output_type": "execute_result"
    }
   ],
   "source": [
    "df.head()"
   ]
  },
  {
   "cell_type": "code",
   "execution_count": 323,
   "id": "161f04e0-a9e7-4c42-be42-304594141d61",
   "metadata": {},
   "outputs": [],
   "source": [
    "df.to_csv('job scraped.csv', index=False, encoding='utf-8')"
   ]
  },
  {
   "cell_type": "code",
   "execution_count": null,
   "id": "29c52979-84f4-477c-9264-16bb88f2782f",
   "metadata": {},
   "outputs": [],
   "source": []
  }
 ],
 "metadata": {
  "kernelspec": {
   "display_name": "d2l",
   "language": "python",
   "name": "d2l"
  },
  "language_info": {
   "codemirror_mode": {
    "name": "ipython",
    "version": 3
   },
   "file_extension": ".py",
   "mimetype": "text/x-python",
   "name": "python",
   "nbconvert_exporter": "python",
   "pygments_lexer": "ipython3",
   "version": "3.8.12"
  }
 },
 "nbformat": 4,
 "nbformat_minor": 5
}
