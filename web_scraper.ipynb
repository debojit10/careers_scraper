{
 "cells": [
  {
   "cell_type": "code",
   "execution_count": 9,
   "id": "36ac84c5-2cc5-4216-800a-a2575783d7fd",
   "metadata": {},
   "outputs": [],
   "source": [
    "from selenium import webdriver\n",
    "from selenium.webdriver.common.keys import Keys\n",
    "from selenium.webdriver.common.by import By"
   ]
  },
  {
   "cell_type": "code",
   "execution_count": null,
   "id": "f9df604c-fb5e-4f1f-be1c-a0dec9ad74d8",
   "metadata": {},
   "outputs": [],
   "source": [
    "from webdriver_manager.chrome import ChromeDriverManager\n",
    "\n",
    "driver = webdriver.Chrome(ChromeDriverManager().install())"
   ]
  },
  {
   "cell_type": "code",
   "execution_count": 7,
   "id": "7c1b394b-21c8-4793-b342-db11b7c5bfc5",
   "metadata": {},
   "outputs": [],
   "source": [
    "driver.get(\"https://www.linkedin.com/login\")"
   ]
  },
  {
   "cell_type": "code",
   "execution_count": null,
   "id": "27a791c9-e6b6-4b09-8a28-9d7d7e09cf8e",
   "metadata": {},
   "outputs": [],
   "source": [
    "company = 'amazon'\n",
    "email = ''\n",
    "password = ''\n",
    "username = driver.find_element(By.NAME,\"email-or-phone\")\n",
    "password = driver.find_element(By.NAME,\"password\")"
   ]
  },
  {
   "cell_type": "code",
   "execution_count": 14,
   "id": "5086b189-70a8-448a-bc6d-c12c55a055b1",
   "metadata": {},
   "outputs": [],
   "source": [
    "username.send_keys(email) \n",
    "password.send_keys(password)"
   ]
  },
  {
   "cell_type": "code",
   "execution_count": 22,
   "id": "840bc223-3e85-48c0-8da6-729af288637b",
   "metadata": {},
   "outputs": [],
   "source": [
    "driver.find_element(By.ID, \"join-form-submit\").click()"
   ]
  },
  {
   "cell_type": "code",
   "execution_count": 25,
   "id": "b4964fa6-954e-469a-a60f-7121dda2b18e",
   "metadata": {},
   "outputs": [],
   "source": [
    "driver.get(\"https://www.linkedin.com/company/\"+company+\"/jobs/\")"
   ]
  },
  {
   "cell_type": "code",
   "execution_count": 38,
   "id": "44f9426a-0728-4bb8-8df4-6460e1793083",
   "metadata": {},
   "outputs": [
    {
     "data": {
      "text/plain": [
       "'See all jobs\\nClick to See all jobs at Amazon'"
      ]
     },
     "execution_count": 38,
     "metadata": {},
     "output_type": "execute_result"
    }
   ],
   "source": [
    "driver.find_element(By.XPATH,'//*[@id=\"ember138\"]').text"
   ]
  },
  {
   "cell_type": "code",
   "execution_count": 78,
   "id": "aa837d84-25ad-4b52-b5ab-ca0bc5d74113",
   "metadata": {},
   "outputs": [],
   "source": [
    "jobs = driver.find_element(By.XPATH,\"/html/body/div[5]/div[3]/div[3]/div[2]/div/section[1]/div/div/ul\")"
   ]
  },
  {
   "cell_type": "code",
   "execution_count": 86,
   "id": "9d868b11-7bbe-4d82-af1e-a3f87dc33a30",
   "metadata": {},
   "outputs": [
    {
     "data": {
      "text/plain": [
       "'Business Intel Engineer\\nAmazon\\nBengaluru, Karnataka, India\\n93 company alumni work here\\nPromoted\\n9 applicants\\nApplied Scientist I\\nAmazon\\nHyderabad, Telangana, India\\n93 company alumni work here\\nPromoted\\nData Scientist\\nAmazon\\nHyderabad, Telangana, India\\n93 company alumni work here\\nPromoted\\nFront End Engineer 2, Amazon miniTV\\nAmazon\\nBengaluru, Karnataka, India\\n456 alumni work here\\nPromoted\\nData Scientist\\nTwitch\\nSeattle, WA\\nMedical, Vision, Dental, 401(k), +3 benefits\\nActively recruiting\\n6 hours ago\\nWithin the past 24 hours\\n2022 Fall Applied Science Internship - Automated Reasoning, Computer Vision, Machine Learning, Quantum, Robotics, Speech Technologies - Canada\\nAmazon\\nOntario, Canada\\n93 company alumni work here\\n3 hours ago\\nWithin the past 24 hours\\nSr. Research Scientist, Geospatial Science\\nAmazon\\nHyderabad, Telangana, India\\n93 company alumni work here\\nPromoted\\n14 applicants'"
      ]
     },
     "execution_count": 86,
     "metadata": {},
     "output_type": "execute_result"
    }
   ],
   "source": [
    "jobs.text"
   ]
  },
  {
   "cell_type": "code",
   "execution_count": 88,
   "id": "cadca9ae-2228-4be2-b167-d04807cdf8e3",
   "metadata": {},
   "outputs": [
    {
     "name": "stderr",
     "output_type": "stream",
     "text": [
      "C:\\Users\\deboj\\AppData\\Local\\Temp/ipykernel_7928/2559279971.py:1: DeprecationWarning: find_elements_by_tag_name is deprecated. Please use find_elements(by=By.TAG_NAME, value=name) instead\n",
      "  items = jobs.find_elements_by_tag_name(\"li\")\n"
     ]
    }
   ],
   "source": [
    "items = jobs.find_elements_by_tag_name(\"li\")"
   ]
  },
  {
   "cell_type": "code",
   "execution_count": 97,
   "id": "b008b0ae-ca23-4299-93f4-cd23b62cfb49",
   "metadata": {},
   "outputs": [
    {
     "name": "stderr",
     "output_type": "stream",
     "text": [
      "C:\\Users\\deboj\\AppData\\Local\\Temp/ipykernel_7928/2095505213.py:1: DeprecationWarning: find_elements_by_tag_name is deprecated. Please use find_elements(by=By.TAG_NAME, value=name) instead\n",
      "  inner = items[0].find_elements_by_tag_name(\"div\")\n"
     ]
    }
   ],
   "source": [
    "inner = items[0].find_elements_by_tag_name(\"div\")"
   ]
  },
  {
   "cell_type": "code",
   "execution_count": 107,
   "id": "df62f75c-6ad2-4382-a0df-9c2e65504c6d",
   "metadata": {},
   "outputs": [
    {
     "name": "stderr",
     "output_type": "stream",
     "text": [
      "C:\\Users\\deboj\\AppData\\Local\\Temp/ipykernel_7928/2165247369.py:1: DeprecationWarning: find_elements_by_tag_name is deprecated. Please use find_elements(by=By.TAG_NAME, value=name) instead\n",
      "  inner[4].find_elements_by_tag_name(\"a\")\n"
     ]
    },
    {
     "data": {
      "text/plain": [
       "[<selenium.webdriver.remote.webelement.WebElement (session=\"34ebb1e72c6fd0e95307e8451ecce2ec\", element=\"aa14a129-2cc3-46d1-b481-b5e9654d7a0d\")>,\n",
       " <selenium.webdriver.remote.webelement.WebElement (session=\"34ebb1e72c6fd0e95307e8451ecce2ec\", element=\"b502e05a-7093-4d1c-823c-1ab268906beb\")>]"
      ]
     },
     "execution_count": 107,
     "metadata": {},
     "output_type": "execute_result"
    }
   ],
   "source": [
    "inner[4].find_elements_by_tag_name(\"a\")"
   ]
  },
  {
   "cell_type": "code",
   "execution_count": 87,
   "id": "7cbcb6b2-a237-4ac1-9eaa-b4a9c2dc55e3",
   "metadata": {},
   "outputs": [
    {
     "data": {
      "text/plain": [
       "'LinkedIn'"
      ]
     },
     "execution_count": 87,
     "metadata": {},
     "output_type": "execute_result"
    }
   ],
   "source": [
    "driver.find_element(By.TAG_NAME,'a').text"
   ]
  },
  {
   "cell_type": "code",
   "execution_count": null,
   "id": "6a1fdfe8-f03f-4e2e-829e-f0b3f2cb7b5f",
   "metadata": {},
   "outputs": [],
   "source": []
  }
 ],
 "metadata": {
  "kernelspec": {
   "display_name": "d2l",
   "language": "python",
   "name": "d2l"
  },
  "language_info": {
   "codemirror_mode": {
    "name": "ipython",
    "version": 3
   },
   "file_extension": ".py",
   "mimetype": "text/x-python",
   "name": "python",
   "nbconvert_exporter": "python",
   "pygments_lexer": "ipython3",
   "version": "3.8.12"
  }
 },
 "nbformat": 4,
 "nbformat_minor": 5
}
